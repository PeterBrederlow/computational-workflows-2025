{
 "cells": [
  {
   "cell_type": "markdown",
   "metadata": {},
   "source": [
    "# Day 2\n",
    "\n",
    "Today, we will start using nf-core pipelines to find differentially abundant genes in our dataset. \n",
    "We are using data from the following paper: https://www.nature.com/articles/s41593-023-01350-3#Sec10"
   ]
  },
  {
   "cell_type": "markdown",
   "metadata": {
    "vscode": {
     "languageId": "plaintext"
    }
   },
   "source": [
    "1. Please take some time to read through the paper and understand their approach, hypotheses and goals."
   ]
  },
  {
   "cell_type": "markdown",
   "metadata": {
    "vscode": {
     "languageId": "plaintext"
    }
   },
   "source": [
    "What was the objective of the study?"
   ]
  },
  {
   "cell_type": "markdown",
   "metadata": {},
   "source": [
    "The objective of the study was to quantify and characterize the molecular (especially transcriptomic) changes in mice after receiving opiod tratment and then withdrawal under chronic pain. To control these mice were compared to mice without chronic pain, and to mice which were given a placebo instead of the opiods."
   ]
  },
  {
   "cell_type": "markdown",
   "metadata": {
    "vscode": {
     "languageId": "plaintext"
    }
   },
   "source": [
    "What do the conditions mean?"
   ]
  },
  {
   "cell_type": "markdown",
   "metadata": {},
   "source": [
    "oxy:\n",
    "Oxy is short for oxycodon, a typical opiod used for treatment of heavy pain.\n",
    "\n",
    "\n",
    "sal:\n",
    "Sal is short for saline solution, which does not contain any active ingredients and serves as a placebo."
   ]
  },
  {
   "cell_type": "markdown",
   "metadata": {},
   "source": [
    "What do the genotypes mean?"
   ]
  },
  {
   "cell_type": "markdown",
   "metadata": {},
   "source": [
    "SNI:\n",
    "SNI is short for spared nerve injury. Parts of the sciatic nerve were surgically removed in the mice, causing chronic pain.\n",
    "\n",
    "Sham: Sham surgerys are placebo surgeries, the mice received the same surgical procedure but without the removal of parts of the nerve, hence serving as a negative control for the chronic pain."
   ]
  },
  {
   "cell_type": "markdown",
   "metadata": {},
   "source": [
    "Imagine you are the bioinformatician in the group who conducted this study. They hand you the raw files and ask you to analyze them.\n",
    "\n",
    "What would you do?\n",
    "\n",
    "Which groups would you compare to each other?\n",
    "\n",
    "Please also mention which outcome you would expect to see from each comparison."
   ]
  },
  {
   "cell_type": "markdown",
   "metadata": {},
   "source": [
    "In general I would set up a differential abundance pipeline that quantifies the differentially expressed genes between the different conditions, afterwars I would exploratorily look into different clusterings/groupings of the tranriptomes and also explore the biological relevance of the genes using Gene Set enrichment Analysis (GSEA).  \n",
    "The conditions to compare are oxy vs. sal in both SNI and sham mice to compare the differences in response to opioid withdrawal and SNI-oxy vs sham-oxy / SNI-sal vs. sham-sal to compare the transciptional differences between opioid withdrawal if the mice suffer from the pain.  \n",
    "One would expect to find differentially expressed genes related to neuronal activation, especially of neurons related to reward patterns, when comparing the withdrawal group to the placebo group. Additionally, one would expect that the difference in these signatures is more drastic in the mice that suffer from chronic pain."
   ]
  },
  {
   "cell_type": "markdown",
   "metadata": {},
   "source": [
    "Your group gave you a very suboptimal excel sheet (conditions_runs_oxy_project.xlsx) to get the information you need for each run they uploaded to the SRA.<br>\n",
    "So, instead of directly diving into downloading the data and starting the analysis, you first need to sort the lazy table.<br>\n",
    "Use Python and Pandas to get the table into a more sensible order.<br>\n",
    "Then, perform some overview analysis and plot the results\n",
    "1. How many samples do you have per condition?\n",
    "2. How many samples do you have per genotype?\n",
    "3. How often do you have each condition per genotype?"
   ]
  },
  {
   "cell_type": "markdown",
   "metadata": {},
   "source": [
    "1. 8  \n",
    "2. 8  \n",
    "3. 4"
   ]
  },
  {
   "cell_type": "code",
   "execution_count": 3,
   "metadata": {},
   "outputs": [
    {
     "name": "stdout",
     "output_type": "stream",
     "text": [
      "  Patient          Run RNA-seq  DNA-seq condition: Sal Condition: Oxy  \\\n",
      "0       ?  SRR23195505       x      NaN              x            NaN   \n",
      "1       ?  SRR23195506       x      NaN            NaN              x   \n",
      "2       ?  SRR23195507       x      NaN              x            NaN   \n",
      "3       ?  SRR23195508       x      NaN            NaN              x   \n",
      "4       ?  SRR23195509       x      NaN            NaN              x   \n",
      "\n",
      "  Genotype: SNI Genotype: Sham  \n",
      "0             x            NaN  \n",
      "1           NaN              x  \n",
      "2           NaN              x  \n",
      "3             x            NaN  \n",
      "4             x            NaN  \n"
     ]
    }
   ],
   "source": [
    "import pandas as pd\n",
    "\n",
    "# read an Excel file\n",
    "df = pd.read_excel(\"/Users/peterbrederlow/Documents/Uni/MasterBioinformatik/SS25/WorkflowCourse/computational-workflows-2025/notebooks/day_02/conditions_runs_oxy_project.xlsx\")\n",
    "\n",
    "# look at the first few rows\n",
    "print(df.head())"
   ]
  },
  {
   "cell_type": "code",
   "execution_count": 14,
   "metadata": {},
   "outputs": [
    {
     "name": "stdout",
     "output_type": "stream",
     "text": [
      "           Run  Sham/Sal  Oxy/Sal\n",
      "0  SRR23195505         1        1\n",
      "2  SRR23195507         1        1\n",
      "5  SRR23195510         1        1\n",
      "7  SRR23195512         1        1\n",
      "8  SRR23195513         1        1\n"
     ]
    }
   ],
   "source": [
    "df = df.fillna(0).replace(\"x\", 1)\n",
    "\n",
    "df[\"Sham/Sal\"] = df[\"Genotype: Sham\"] + df[\"condition: Sal\"]\n",
    "df[\"Oxy/Sal\"] = df[\"Condition: Oxy\"] + df[\"condition: Sal\"]\n",
    "\n",
    "# If you just want 1/0 instead of 0/1/2 (any positive = 1)\n",
    "df[\"Sham/Sal\"] = (df[\"Sham/Sal\"] > 0).astype(int)\n",
    "df[\"Oxy/Sal\"] = (df[\"Oxy/Sal\"] > 0).astype(int)\n",
    "\n",
    "# make sure numeric (instead of strings \"1\"/\"0\")\n",
    "df = df.astype({col: \"int\" for col in df.columns if col not in [\"Patient\", \"Run\"]})\n",
    "\n",
    "# sort by conditions (first \"Sal\", then \"Oxy\")\n",
    "df = df.sort_values(by=[\"Sham/Sal\", \"Oxy/Sal\"], ascending=[False, False])\n",
    "\n",
    "df= df[[\"Run\", \"Sham/Sal\", \"Oxy/Sal\"]]\n",
    "\n",
    "print(df.head())"
   ]
  },
  {
   "cell_type": "code",
   "execution_count": null,
   "metadata": {},
   "outputs": [],
   "source": [
    "#plot?"
   ]
  },
  {
   "cell_type": "markdown",
   "metadata": {},
   "source": [
    "They were so kind to also provide you with the information of the number of bases per run, so that you can know how much space the data will take on your Cluster.<br>\n",
    "Add a new column to your fancy table with this information (base_counts.csv) and sort your dataframe according to this information and the condition.\n",
    "\n",
    "Then select the 2 smallest runs from your dataset and download them from SRA (maybe an nf-core pipeline can help here?...)"
   ]
  },
  {
   "cell_type": "code",
   "execution_count": 15,
   "metadata": {},
   "outputs": [
    {
     "name": "stdout",
     "output_type": "stream",
     "text": [
      "           Run       Bases\n",
      "0  SRR23195505  6922564500\n",
      "1  SRR23195506  7859530800\n",
      "2  SRR23195507  8063298900\n",
      "3  SRR23195508  6927786900\n",
      "4  SRR23195509  7003550100\n"
     ]
    }
   ],
   "source": [
    "runs = pd.read_csv(\"/Users/peterbrederlow/Documents/Uni/MasterBioinformatik/SS25/WorkflowCourse/computational-workflows-2025/notebooks/day_02/base_counts.csv\")\n",
    "print(runs.head())\n",
    "\n",
    "\n",
    "\n"
   ]
  },
  {
   "cell_type": "code",
   "execution_count": 16,
   "metadata": {},
   "outputs": [
    {
     "name": "stdout",
     "output_type": "stream",
     "text": [
      "           Run  Sham/Sal  Oxy/Sal       Bases\n",
      "0  SRR23195505         1        1  6922564500\n",
      "1  SRR23195507         1        1  8063298900\n",
      "2  SRR23195510         1        1  7377388500\n",
      "3  SRR23195512         1        1  7462857900\n",
      "4  SRR23195513         1        1  8099181600\n"
     ]
    }
   ],
   "source": [
    "#map to the metadata\n",
    "df_merged = pd.merge(df, runs, on=\"Run\", how=\"left\")\n",
    "\n",
    "print(df_merged.head())"
   ]
  },
  {
   "cell_type": "code",
   "execution_count": 17,
   "metadata": {},
   "outputs": [
    {
     "name": "stdout",
     "output_type": "stream",
     "text": [
      "            Run       Bases\n",
      "14  SRR23195516  6203117700\n",
      "9   SRR23195511  6456390900\n",
      "15  SRR23195517  6863840400\n",
      "0   SRR23195505  6922564500\n",
      "12  SRR23195508  6927786900\n"
     ]
    }
   ],
   "source": [
    "df_sorted = df_merged.sort_values(by=\"Bases\", ascending=True)\n",
    "\n",
    "# show the runs with the smallest base count\n",
    "print(df_sorted[[\"Run\", \"Bases\"]].head())\n",
    "\n",
    "top2 = df_sorted[[\"Run\"]].head(2)\n",
    "\n",
    "# save as CSV\n",
    "top2.to_csv(\"top2_ids.csv\", index=False, header = False)"
   ]
  },
  {
   "cell_type": "code",
   "execution_count": null,
   "metadata": {},
   "outputs": [],
   "source": [
    "#get smallest runs using nextflow\n",
    "nextflow run nf-core/fetchngs \\\n",
    "  --input /Users/peterbrederlow/Documents/Uni/MasterBioinformatik/SS25/WorkflowCourse/computational-workflows-2025/notebooks/day_02/top2_ids.csv \\\n",
    "  --outdir \"./SRFetch_results\" \\\n",
    "  -profile docker\n"
   ]
  },
  {
   "cell_type": "markdown",
   "metadata": {},
   "source": [
    "While your files are downloading, get back to the paper and explain how you would try to reproduce the analysis.<br>\n",
    "When you are done with this shout, so we can discuss the different ideas."
   ]
  },
  {
   "cell_type": "markdown",
   "metadata": {},
   "source": [
    "The rnaseq pipeline can be used to align and quality control the data using the same tools used in the papaer (HISAT2, HTSEQ), which can then be quality controlled and be made ready for differential analysis.\n",
    "Since the paper used DESeq2, a classic R differential expression tool, to analyze the transcriptomes, it makes sense to use the nf-core pipeline deseq2_differential. After that the GSEA can be analyzed using the differential abundance pipeline of nf-core, which can also be used for differntial expression analysis. "
   ]
  }
 ],
 "metadata": {
  "kernelspec": {
   "display_name": "work",
   "language": "python",
   "name": "python3"
  },
  "language_info": {
   "codemirror_mode": {
    "name": "ipython",
    "version": 3
   },
   "file_extension": ".py",
   "mimetype": "text/x-python",
   "name": "python",
   "nbconvert_exporter": "python",
   "pygments_lexer": "ipython3",
   "version": "3.13.7"
  }
 },
 "nbformat": 4,
 "nbformat_minor": 2
}
