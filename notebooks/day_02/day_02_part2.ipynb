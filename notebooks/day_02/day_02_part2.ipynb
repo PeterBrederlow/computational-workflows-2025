{
 "cells": [
  {
   "cell_type": "markdown",
   "metadata": {},
   "source": [
    "## Great, now that we discussed a little let's continue"
   ]
  },
  {
   "cell_type": "markdown",
   "metadata": {},
   "source": [
    "Given that the current approach utilized by the authors lacks reproducibility, we will explore an alternative method by leveraging nf-core pipelines for data analysis.\n",
    "\n",
    "Please explain, how we will achieve reproducibility for the course  with this approach.\n"
   ]
  },
  {
   "cell_type": "markdown",
   "metadata": {},
   "source": [
    "Using nextflow pipelines that follow the nf-core guidelines, which ensure reproducibility by packaging, good documentation and CI testing. "
   ]
  },
  {
   "cell_type": "markdown",
   "metadata": {},
   "source": [
    "You have successfully downloaded 2 of the fastq files we will use in our study.\n",
    "\n",
    "What is the next step if we want to first have a count table and check the quality of our fastq files? What is the pipeline called to do so?"
   ]
  },
  {
   "cell_type": "markdown",
   "metadata": {},
   "source": [
    "The first steps are preprocessing:  \n",
    "-Merge re-sequenced FastQ files (cat)  \n",
    "-Sub-sample FastQ files and auto-infer strandedness (fq, Salmon)  \n",
    "-Read QC (FastQC)  \n",
    "-UMI extraction (UMI-tools) (only for single cell?!?)  \n",
    "-Adapter and quality trimming (Trim Galore!)  \n",
    "-Removal of genome contaminants (BBSplit)  \n",
    "-Removal of ribosomal RNA (SortMeRNA)    \n",
    "\n",
    "and then afterwards alignment using HiSAT2, then they can be sorted and indexed using Samtools, the transcript can be assembled and then the Quality Control can be done based on different packages (for example DeSeq2, which was used in the paper). \n"
   ]
  },
  {
   "cell_type": "markdown",
   "metadata": {},
   "source": [
    "Analyze the 2 files using an nf-core pipeline.\n",
    "\n",
    "What does this pipeline do?\n",
    "\n",
    "Which are the main tools that will be used in the pipeline?"
   ]
  },
  {
   "cell_type": "markdown",
   "metadata": {},
   "source": [
    "As described the pipeline preprocesses, aligns and quality controls the inputted .fastq files, the main tools are already described in the cell above."
   ]
  },
  {
   "cell_type": "markdown",
   "metadata": {},
   "source": [
    "As all other nf-core pipelines, the chosen pipeline takes in a samplesheet as input.\n",
    "\n",
    "Use Python and pandas to create the samplesheet for your 2 samples. Feel free to make use of the table you created earlier today.\n",
    "\n",
    "Choose your sample names wisely, they must be the connection of the results to the metadata. If you can't find the sample in the metadata later, the analysis was useless."
   ]
  },
  {
   "cell_type": "code",
   "execution_count": 3,
   "metadata": {},
   "outputs": [
    {
     "name": "stdout",
     "output_type": "stream",
     "text": [
      "        sample                                            fastq_1  \\\n",
      "0  SRX19144486  ./SRFetch_results/fastq/SRX19144486_SRR2319551...   \n",
      "1  SRX19144488  ./SRFetch_results/fastq/SRX19144488_SRR2319551...   \n",
      "\n",
      "                                             fastq_2 run_accession  \\\n",
      "0  ./SRFetch_results/fastq/SRX19144486_SRR2319551...   SRR23195516   \n",
      "1  ./SRFetch_results/fastq/SRX19144488_SRR2319551...   SRR23195511   \n",
      "\n",
      "  experiment_accession sample_accession secondary_sample_accession  \\\n",
      "0          SRX19144486     SAMN32880530                SRS16557078   \n",
      "1          SRX19144488     SAMN32880528                SRS16557080   \n",
      "\n",
      "  study_accession secondary_study_accession submission_accession  ...  \\\n",
      "0     PRJNA926667                 SRP418759           SRA1578893  ...   \n",
      "1     PRJNA926667                 SRP418759           SRA1578893  ...   \n",
      "\n",
      "  sample_title                                   experiment_title  \\\n",
      "0           H2  Illumina HiSeq 2000 sequencing: GSM6958543: H2...   \n",
      "1           C3  Illumina HiSeq 2000 sequencing: GSM6958545: C3...   \n",
      "\n",
      "                                         study_title sample_description  \\\n",
      "0  Oxycodone withdrawal induces HDAC1/2-dependent...                 H2   \n",
      "1  Oxycodone withdrawal induces HDAC1/2-dependent...                 C3   \n",
      "\n",
      "                                           fastq_md5            fastq_bytes  \\\n",
      "0  d04951f4200402f36d8f1830315a708f;29ada651e1b89...  1679266952;2010110161   \n",
      "1  337b9e2d8292d8a29a36bdb1dc80cca5;9a7c146f7304e...  1790266163;2208692744   \n",
      "\n",
      "                                           fastq_ftp  \\\n",
      "0  ftp.sra.ebi.ac.uk/vol1/fastq/SRR231/016/SRR231...   \n",
      "1  ftp.sra.ebi.ac.uk/vol1/fastq/SRR231/011/SRR231...   \n",
      "\n",
      "                                        fastq_galaxy  \\\n",
      "0  ftp.sra.ebi.ac.uk/vol1/fastq/SRR231/016/SRR231...   \n",
      "1  ftp.sra.ebi.ac.uk/vol1/fastq/SRR231/011/SRR231...   \n",
      "\n",
      "                                        fastq_aspera strandedness  \n",
      "0  fasp.sra.ebi.ac.uk:/vol1/fastq/SRR231/016/SRR2...      reverse  \n",
      "1  fasp.sra.ebi.ac.uk:/vol1/fastq/SRR231/011/SRR2...      reverse  \n",
      "\n",
      "[2 rows x 35 columns]\n"
     ]
    }
   ],
   "source": [
    "import pandas as pd\n",
    "#prepare samplesheet -> already produced by the nf-core fetchngs pipeline, so just read in and add strandedness -> TruSeq mRNA library prep kit is reverse stranded\n",
    "samplesheet = pd.read_csv(\"/Users/peterbrederlow/Documents/Uni/MasterBioinformatik/SS25/WorkflowCourse/computational-workflows-2025/SRFetch_results/samplesheet/samplesheet.csv\")\n",
    "samplesheet[\"strandedness\"] = \"reverse\"\n",
    "samplesheet.to_csv(\"/Users/peterbrederlow/Documents/Uni/MasterBioinformatik/SS25/WorkflowCourse/computational-workflows-2025/SRFetch_results/samplesheet/samplesheet_fixed.csv\", index=False)\n",
    "print(samplesheet.head())\n"
   ]
  },
  {
   "cell_type": "code",
   "execution_count": null,
   "metadata": {},
   "outputs": [],
   "source": [
    "# post here the command you used to run nf-core/rnaseq\n",
    "nextflow run nf-core/rnaseq \\\n",
    "    --input \"/Users/peterbrederlow/Documents/Uni/MasterBioinformatik/SS25/WorkflowCourse/computational-workflows-2025/SRFetch_results/samplesheet/samplesheet_fixed.csv\" \\\n",
    "    --outdir \"./rnaseq_results\" \\\n",
    "    --genome Mmul_1 \\\n",
    "    -profile docker"
   ]
  },
  {
   "cell_type": "markdown",
   "metadata": {},
   "source": [
    "Explain all the parameters you set and why you set them in this way.\n",
    "\n"
   ]
  },
  {
   "cell_type": "markdown",
   "metadata": {},
   "source": [
    "The samplesheet has the specified names of the fastq_files and other metadata that is necessary to preprocess and align the data. The genome specified is the reference genome to align against and the outdir and profile is similar to all other nextflow elements."
   ]
  },
  {
   "cell_type": "markdown",
   "metadata": {},
   "source": [
    "## Browsing the results"
   ]
  },
  {
   "cell_type": "markdown",
   "metadata": {},
   "source": [
    "How did the pipeline perform?"
   ]
  },
  {
   "cell_type": "markdown",
   "metadata": {},
   "source": []
  },
  {
   "cell_type": "markdown",
   "metadata": {},
   "source": [
    "Explain the quality control steps. Are you happy with the quality and why. If not, why not.\n",
    "Please give additional information on : \n",
    "- ribosomal rRNA\n",
    "- Duplication\n",
    "- GC content\n",
    "\n",
    "What are the possible steps that could lead to poorer results?"
   ]
  },
  {
   "cell_type": "markdown",
   "metadata": {},
   "source": []
  },
  {
   "cell_type": "markdown",
   "metadata": {},
   "source": [
    "Would you exclude any samples? If yes, which and why?"
   ]
  },
  {
   "cell_type": "code",
   "execution_count": null,
   "metadata": {},
   "outputs": [],
   "source": []
  },
  {
   "cell_type": "markdown",
   "metadata": {},
   "source": [
    "What would you now do to continue the experiment? What are the scientists trying to figure out? Which packages on R or python would you use?"
   ]
  },
  {
   "cell_type": "markdown",
   "metadata": {},
   "source": []
  },
  {
   "cell_type": "markdown",
   "metadata": {},
   "source": []
  }
 ],
 "metadata": {
  "kernelspec": {
   "display_name": "work",
   "language": "python",
   "name": "python3"
  },
  "language_info": {
   "codemirror_mode": {
    "name": "ipython",
    "version": 3
   },
   "file_extension": ".py",
   "mimetype": "text/x-python",
   "name": "python",
   "nbconvert_exporter": "python",
   "pygments_lexer": "ipython3",
   "version": "3.13.7"
  }
 },
 "nbformat": 4,
 "nbformat_minor": 2
}
