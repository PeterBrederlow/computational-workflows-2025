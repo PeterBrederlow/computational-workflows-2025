{
 "cells": [
  {
   "cell_type": "markdown",
   "metadata": {},
   "source": [
    "# Differential expression analysis\n"
   ]
  },
  {
   "cell_type": "markdown",
   "metadata": {},
   "source": [
    "You have run the nf-core/rnaseq pipeline and checked the first quality control metrics of your fastq files. This was, however, only the primary analysis and we want to take it further.\n",
    "\n",
    "Due to the computational demand of the pipeline, you only ran the pipeline on two of the 16 samples in the study yesterday. We provide you an essential output of nf-core/rnaseq pipeline in the `data` folder: It contains the combined epression matrix as produced by Salmon, which provides transcript levels for each gene (rows) and each sample (columns).\n"
   ]
  },
  {
   "cell_type": "markdown",
   "metadata": {},
   "source": [
    "We would now like to understand exactly the difference between the expression in our groups of mice. \n",
    "Which pipeline would you use for this?"
   ]
  },
  {
   "cell_type": "markdown",
   "metadata": {
    "vscode": {
     "languageId": "shellscript"
    }
   },
   "source": [
    "The differential abundance pipeline. "
   ]
  },
  {
   "cell_type": "markdown",
   "metadata": {},
   "source": [
    "Have a close look at the pipeline's \"Usage\" page on the [nf-core docs](nf-co.re). You will need to create a samplesheet (based on the column names in the provided matrix)."
   ]
  },
  {
   "cell_type": "code",
   "execution_count": 30,
   "metadata": {},
   "outputs": [
    {
     "name": "stdout",
     "output_type": "stream",
     "text": [
      "       sample Group Genotype Condition\n",
      "0  Sham_oxy_1  Sham      oxy  Sham_oxy\n",
      "1  Sham_oxy_2  Sham      oxy  Sham_oxy\n",
      "2  Sham_oxy_3  Sham      oxy  Sham_oxy\n",
      "3  Sham_oxy_4  Sham      oxy  Sham_oxy\n",
      "4  Sham_Sal_1  Sham      Sal  Sham_Sal\n"
     ]
    }
   ],
   "source": [
    "import pandas as pd\n",
    "#create samplesheet\n",
    "de_matrix = pd.read_csv(\"/Users/peterbrederlow/Documents/Uni/MasterBioinformatik/SS25/WorkflowCourse/computational-workflows-2025/notebooks/day_03/data/salmon.merged.gene_counts.tsv\", sep = \"\\t\",)\n",
    "sample_names = de_matrix.columns[2:]\n",
    "samplesheet = pd.DataFrame(sample_names, columns=[\"sample\"])\n",
    "# Extract conditions from the sample name\n",
    "samplesheet[\"Group\"] = samplesheet[\"sample\"].apply(lambda x: x.split(\"_\")[0])  # Sham / SNI\n",
    "samplesheet[\"Genotype\"] = samplesheet[\"sample\"].apply(lambda x: x.split(\"_\")[1])  # oxy / Sal\n",
    "samplesheet[\"Condition\"] = samplesheet[\"Group\"] + \"_\" + samplesheet[\"Genotype\"]\n",
    "print(samplesheet.head())\n",
    "samplesheet.to_csv(\"samplesheet.csv\", index=False)"
   ]
  },
  {
   "cell_type": "code",
   "execution_count": 31,
   "metadata": {},
   "outputs": [
    {
     "name": "stdout",
     "output_type": "stream",
     "text": [
      "15128           Mical3\n",
      "30722             Nron\n",
      "31110            Mtcp1\n",
      "31286          Gm16042\n",
      "31628          Gm15494\n",
      "             ...      \n",
      "45389            Srcap\n",
      "45418         Arhgap30\n",
      "45429           Pagr1a\n",
      "45519    RP23-148J20.3\n",
      "45666         Itgb1bp1\n",
      "Name: gene_name, Length: 123, dtype: object\n"
     ]
    }
   ],
   "source": [
    "duplicates = de_matrix.index[de_matrix.index.duplicated()]\n",
    "\n",
    "duplicates = de_matrix['gene_name'][de_matrix['gene_name'].duplicated()]\n",
    "print(duplicates)\n"
   ]
  },
  {
   "cell_type": "markdown",
   "metadata": {},
   "source": [
    "Please paste here the command you used. You may need to inspect the provided expression matrix more closely and create additional files, like a samplesheet (based on the column names) or a contrast file (there happens to also be one in `data/` that you can use)."
   ]
  },
  {
   "cell_type": "code",
   "execution_count": 32,
   "metadata": {
    "vscode": {
     "languageId": "shellscript"
    }
   },
   "outputs": [
    {
     "ename": "SyntaxError",
     "evalue": "invalid syntax (1107307534.py, line 1)",
     "output_type": "error",
     "traceback": [
      "  \u001b[36mCell\u001b[39m\u001b[36m \u001b[39m\u001b[32mIn[32]\u001b[39m\u001b[32m, line 1\u001b[39m\n\u001b[31m    \u001b[39m\u001b[31mnextflow run nf-core/differentialabundance -r 1.5.0\\\u001b[39m\n             ^\n\u001b[31mSyntaxError\u001b[39m\u001b[31m:\u001b[39m invalid syntax\n"
     ]
    }
   ],
   "source": [
    "nextflow run nf-core/differentialabundance -r 1.5.0\\\n",
    "    --input \"/Users/peterbrederlow/Documents/Uni/MasterBioinformatik/SS25/WorkflowCourse/computational-workflows-2025/notebooks/day_03/samplesheet.csv\"\\\n",
    "    --matrix \"/Users/peterbrederlow/Documents/Uni/MasterBioinformatik/SS25/WorkflowCourse/computational-workflows-2025/notebooks/day_03/data/salmon.merged.gene_counts.tsv\" \\\n",
    "    --contrasts \"/Users/peterbrederlow/Documents/Uni/MasterBioinformatik/SS25/WorkflowCourse/computational-workflows-2025/notebooks/day_03/data/contrasts.csv\" \\\n",
    "    -profile docker,arm \\\n",
    "    --outdir \"differentialExpress\" "
   ]
  },
  {
   "cell_type": "markdown",
   "metadata": {},
   "source": [
    "Explain all the parameters you set and why you set them in this way. If you used or created additional files as input, explain what they are used for."
   ]
  },
  {
   "cell_type": "markdown",
   "metadata": {},
   "source": [
    "The -profile flag contains the specification for the arm docker profile, additionally the input matrix of the counts for all Genes and samples wa specified, the samplesheet that describes the experimental condition and genotype, as well as the contrat.  \n",
    "The contrast also specifies the conditions that should be compared to each other, and which group serves as baseline/reference. "
   ]
  },
  {
   "cell_type": "markdown",
   "metadata": {},
   "source": [
    "What were the outputs of the pipeline?"
   ]
  },
  {
   "cell_type": "markdown",
   "metadata": {},
   "source": [
    "The output contains a report, which is base on a shinyapp, in which plots which can be separately looked at as well. Additionally, it contains a matrix with the normalized gene counts and matrices containing the differentially expressed genes with their regarding log fold change, p-value etc. "
   ]
  },
  {
   "cell_type": "code",
   "execution_count": 2,
   "metadata": {},
   "outputs": [],
   "source": [
    "#!TODO"
   ]
  },
  {
   "cell_type": "markdown",
   "metadata": {},
   "source": [
    "Would you exclude any samples? If yes, which and why?"
   ]
  },
  {
   "cell_type": "markdown",
   "metadata": {},
   "source": [
    "Based on the PCA, and also based on the median absolute deviation of the genes, the samples SNI_Sal 1 and 2 are probably outliers in their experimental group and should be excluded. "
   ]
  },
  {
   "cell_type": "code",
   "execution_count": 34,
   "metadata": {},
   "outputs": [
    {
     "name": "stdout",
     "output_type": "stream",
     "text": [
      "        sample Group Genotype Condition\n",
      "0   Sham_oxy_1  Sham      oxy  Sham_oxy\n",
      "1   Sham_oxy_2  Sham      oxy  Sham_oxy\n",
      "2   Sham_oxy_3  Sham      oxy  Sham_oxy\n",
      "3   Sham_oxy_4  Sham      oxy  Sham_oxy\n",
      "4   Sham_Sal_1  Sham      Sal  Sham_Sal\n",
      "5   Sham_Sal_2  Sham      Sal  Sham_Sal\n",
      "6   Sham_Sal_3  Sham      Sal  Sham_Sal\n",
      "7   Sham_Sal_4  Sham      Sal  Sham_Sal\n",
      "8    SNI_oxy_1   SNI      oxy   SNI_oxy\n",
      "9    SNI_oxy_2   SNI      oxy   SNI_oxy\n",
      "10   SNI_oxy_3   SNI      oxy   SNI_oxy\n",
      "11   SNI_oxy_4   SNI      oxy   SNI_oxy\n",
      "12   SNI_Sal_1   SNI      Sal   SNI_Sal\n",
      "14   SNI_Sal_3   SNI      Sal   SNI_Sal\n"
     ]
    }
   ],
   "source": [
    "#create new samplesheet\n",
    "new_samplesheet = samplesheet\n",
    "new_samplesheet = samplesheet.drop([13, 15], axis=0)\n",
    "\n",
    "print(new_samplesheet)\n",
    "\n",
    "new_samplesheet.to_csv(\"new_samplesheet.csv\", index=False)"
   ]
  },
  {
   "cell_type": "code",
   "execution_count": null,
   "metadata": {
    "vscode": {
     "languageId": "shellscript"
    }
   },
   "outputs": [],
   "source": [
    "#the pipeline was rerun without the excluded samples\n",
    "nextflow run nf-core/differentialabundance -r 1.5.0\\\n",
    "    --input \"/Users/peterbrederlow/Documents/Uni/MasterBioinformatik/SS25/WorkflowCourse/computational-workflows-2025/notebooks/day_03/new_samplesheet.csv\" \\\n",
    "    --matrix \"/Users/peterbrederlow/Documents/Uni/MasterBioinformatik/SS25/WorkflowCourse/computational-workflows-2025/notebooks/day_03/data/salmon.merged.gene_counts.tsv\" \\\n",
    "    --contrasts \"/Users/peterbrederlow/Documents/Uni/MasterBioinformatik/SS25/WorkflowCourse/computational-workflows-2025/notebooks/day_03/data/contrasts.csv\" \\\n",
    "    -profile docker,arm \\\n",
    "    --outdir \"differentialExpress_filtered\" "
   ]
  },
  {
   "cell_type": "markdown",
   "metadata": {},
   "source": [
    "How many genes were differentially expressed in each contrast? Does this confirm what the paper mentions?"
   ]
  },
  {
   "cell_type": "markdown",
   "metadata": {},
   "source": [
    "Contrasts:  \n",
    "Sal_oxy vs sal: 18  \n",
    "Sham_oxy vs sal: 7  "
   ]
  },
  {
   "cell_type": "markdown",
   "metadata": {},
   "source": [
    "The paper mentions differentially expressed genes in three brain regions : the NAc, mPFC and VTA. Briefly explain what these 3 regions are."
   ]
  },
  {
   "cell_type": "markdown",
   "metadata": {},
   "source": [
    "The ventral tegmental area (VTA) is a midbrain region where opioids disinhibit dopaminergic neurons, increasing dopamine release. This dopamine projects to the nucleus accumbens (NAc), driving reward, reinforcement, and drug-seeking behavior. The medial prefrontal cortex (mPFC) regulates decision-making and impulse control, but chronic opioid exposure can alter its activity, weakening behavioral control and promoting addiction."
   ]
  },
  {
   "cell_type": "markdown",
   "metadata": {},
   "source": [
    "Is there anyway from the paper and the material and methods for us to know which genes are included in these regions?"
   ]
  },
  {
   "cell_type": "markdown",
   "metadata": {},
   "source": []
  },
  {
   "cell_type": "markdown",
   "metadata": {},
   "source": [
    "Once you have your list of differentially expressed genes, do you think just communicating those to the biologists would be sufficient? What does the publication state?"
   ]
  },
  {
   "cell_type": "markdown",
   "metadata": {},
   "source": [
    "Please reproduce the Venn Diagram from Figure 3, not taking into account the brain regions but just the contrasts mentionned."
   ]
  }
 ],
 "metadata": {
  "kernelspec": {
   "display_name": "work",
   "language": "python",
   "name": "python3"
  },
  "language_info": {
   "codemirror_mode": {
    "name": "ipython",
    "version": 3
   },
   "file_extension": ".py",
   "mimetype": "text/x-python",
   "name": "python",
   "nbconvert_exporter": "python",
   "pygments_lexer": "ipython3",
   "version": "3.13.7"
  }
 },
 "nbformat": 4,
 "nbformat_minor": 2
}
